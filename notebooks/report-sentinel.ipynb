{
 "cells": [
  {
   "cell_type": "markdown",
   "id": "10b07e6e-ea96-42b2-86da-d78c51fa4181",
   "metadata": {},
   "source": [
    "## Usage\n",
    "Make sure azure_notebook_reporting is installed as a first step, run below using a code cell once off\n",
    "\n",
    "```python\n",
    "%pip install --quiet git+https://github.com/wagov/wasoc-notebook.git\n",
    "```\n",
    "\n",
    "To run in Azure ML\n",
    "```python\n",
    "import os, json, pandas as pd\n",
    "from azure_notebook_reporting import KQL, BlobPath\n",
    "os.environ.update(json.load(open(f\"{os.environ['HOME']}/cloudfiles/code/nbenv.json\")))\n",
    "path = BlobPath(os.environ[\"AZURE_STORAGE_CONTAINER\"], os.environ[\"AZURE_SUBSCRIPTION\"])\n",
    "kp = KQL(path, template=\"markdown/report-sentinel.md\")\n",
    "```\n",
    "\n",
    "To run locally\n",
    "```python\n",
    "import os, json, pandas as pd\n",
    "from azure_notebook_reporting import KQL, BlobPath\n",
    "path = BlobPath(\"..\")\n",
    "kp = KQL(path, template=\"markdown/report-sentinel.md\")\n",
    "```"
   ]
  },
  {
   "cell_type": "code",
   "execution_count": null,
   "id": "60ea89ca-0543-4c60-a38f-2e2b4c41dbf7",
   "metadata": {
    "gather": {
     "logged": 1663729246896
    },
    "tags": []
   },
   "outputs": [],
   "source": [
    "import os, json, pandas as pd\n",
    "from azure_notebook_reporting import KQL, BlobPath\n",
    "\n",
    "path = BlobPath(\"..\")\n",
    "\n",
    "kp = KQL(path, template=\"markdown/report-sentinel.md\")\n",
    "kp.set_agency(os.environ[\"REPORT_AGENCY\"], sample_agency=os.environ[\"REPORT_SAMPLE_AGENCY\"], sample_only=False)\n",
    "\n",
    "kp.init_report(\n",
    "    background = \"https://raw.githubusercontent.com/wagov/wasoc-notebook/main/notebooks/background.svg\",\n",
    "    entity = kp.agency_name,\n",
    "    date = kp.today.strftime(\"%B %Y\"),\n",
    "    body = \"#121212\",\n",
    "    links = \"#084595\",\n",
    "    titles = \"#CC5733\",\n",
    "    footer = \"#808080\", \n",
    ")"
   ]
  },
  {
   "cell_type": "markdown",
   "id": "fc359c70-a912-489e-89c5-5283b729c5c1",
   "metadata": {},
   "source": [
    "## Loading data to report on\n",
    "Execute queries against external apis and gather some statistics"
   ]
  },
  {
   "cell_type": "code",
   "execution_count": null,
   "id": "74bb6ee6",
   "metadata": {
    "gather": {
     "logged": 1663729306673
    }
   },
   "outputs": [],
   "source": [
    "kp.load_queries({\n",
    "    \"Incident Details\": \"siemhealth/incidentdetail.kql\",\n",
    "    \"Alert Details\": \"siemhealth/alertdetail.kql\",\n",
    "    \"Local Admins\": \"siemhealth/localadminlogons.kql\",\n",
    "    \"Email Delivery\": \"siemhealth/emaildelivery.kql\",\n",
    "    \"External Files\": \"siemhealth/externaldownloads.kql\",\n",
    "    \"Guest Tenants\": \"siemhealth/guestdownloads.kql\",\n",
    "    \"On Premise Logons\": \"siemhealth/identitylogonevents.kql\",\n",
    "    \"Azure AD Logons\": \"siemhealth/signins.kql\",\n",
    "    \"Operating Systems\": \"siemhealth/operatingsystems.kql\",\n",
    "    \"Ingestion Detail\": \"siemhealth/usage.kql\",\n",
    "})"
   ]
  },
  {
   "cell_type": "markdown",
   "id": "5348c91a-cbb7-419a-b12a-93c1318e868e",
   "metadata": {},
   "source": [
    "## Composing a report"
   ]
  },
  {
   "cell_type": "code",
   "execution_count": null,
   "id": "6aa59877-6c3d-463c-a999-8922701a3e3f",
   "metadata": {},
   "outputs": [],
   "source": [
    "%matplotlib agg\n",
    "section = \"Executive Summary\"\n",
    "\n",
    "exec_summary = kp.nbpath / f\"markdown/exec_summaries/{kp.agency}-{kp.today.strftime('%b%Y')}.md\"\n",
    "if not exec_summary.exists():\n",
    "    exec_summary = kp.nbpath / \"markdown/exec_summaries/default.md\"\n",
    "\n",
    "kp.report[section] = kp.report_sections[section].substitute(\n",
    "    agency = kp.agency_name,\n",
    "    date = kp.today.strftime(\"%B %Y\"),\n",
    "    summary = exec_summary.open().read()\n",
    ")\n",
    "\n",
    "kp.report += KQL.minitable(kp.querystats)\n",
    "\n",
    "section = \"Tactics and Rules\"\n",
    "kp.report[section] = kp.report_sections[section].substitute()\n",
    "\n",
    "if kp.querystats[\"Rows\"][\"Incident Details\"] == 0:\n",
    "    kp.report[section] += \"*MISSING DATA: Please confirm there are [analytics rules](https://learn.microsoft.com/en-us/azure/sentinel/detect-threats-built-in) configured on the Analytics page.*\"\n",
    "    kp.report[section] += f\"** SAMPLE DATASET BELOW (substituting for {querystats['Columns']['Incident Details']} **\"\n",
    "df = kp.queries[\"Incident Details\"].groupby([\"Status\", \"Classification\", \"Severity\", \"Tactics\", \"Title\"])\n",
    "df = df[\"IncidentNumber\"].nunique().unstack(level=[0,1]).dropna(axis=1, how=\"all\").fillna(0)\n",
    "df[\"Total\"] = df.sum(numeric_only=True, axis=1)\n",
    "df = df.sort_values(\"Total\", ascending=False).replace({0: \"\"}).head(5)\n",
    "kp.report[section] += KQL.minitable(df)\n",
    "\n",
    "df, interval = KQL.dfago(kp.queries[\"Incident Details\"], \"7D\"), \"3H\"\n",
    "tactics = df.groupby(\"Tactics\").resample(interval, on=\"TimeGenerated\")[\"IncidentNumber\"].nunique().reset_index()\n",
    "kp.report[section] += KQL.df2fig(tactics, \"Detections by Tactic\", \"TimeGenerated\", \"IncidentNumber\", \"Tactics\")\n",
    "rules = df.groupby(\"Title\").resample(interval, on=\"TimeGenerated\")[\"IncidentNumber\"].nunique().reset_index().rename(columns={\"Title\": \"Rule\"})\n",
    "kp.report[section] += KQL.df2fig(rules, \"Detections by Rule\", \"TimeGenerated\", \"IncidentNumber\", \"Rule\")"
   ]
  },
  {
   "cell_type": "code",
   "execution_count": null,
   "id": "7cfe34a0-5fb5-48b8-a5da-f95e366da40d",
   "metadata": {
    "tags": []
   },
   "outputs": [],
   "source": [
    "section = \"Cost Optimisation\"\n",
    "kp.report[section] = kp.report_sections[section].substitute()\n",
    "\n",
    "df = KQL.dfago(kp.queries[\"Ingestion Detail\"], \"5D\")\n",
    "df[\"GB\"] = df.IngestionVolume.map(lambda v: v / 1000)\n",
    "kp.report[section] += KQL.df2fig(df[df[\"Billable\"] == \"True\"], \"Billable Ingestion (GB) by Table\", \"TimeGenerated\", \"GB\", \"Table\")"
   ]
  },
  {
   "cell_type": "code",
   "execution_count": null,
   "id": "a5f71341-0d8d-4b3d-bd2a-e812dd9b6d03",
   "metadata": {
    "tags": []
   },
   "outputs": [],
   "source": [
    "kp.report_pdf()"
   ]
  }
 ],
 "metadata": {
  "kernel_info": {
   "name": "python310-sdkv2"
  },
  "kernelspec": {
   "display_name": "Python 3 (ipykernel)",
   "language": "python",
   "name": "python3"
  },
  "language_info": {
   "codemirror_mode": {
    "name": "ipython",
    "version": 3
   },
   "file_extension": ".py",
   "mimetype": "text/x-python",
   "name": "python",
   "nbconvert_exporter": "python",
   "pygments_lexer": "ipython3",
   "version": "3.10.6"
  },
  "microsoft": {
   "host": {
    "AzureML": {
     "notebookHasBeenCompleted": true
    }
   }
  },
  "nteract": {
   "version": "nteract-front-end@1.0.0"
  }
 },
 "nbformat": 4,
 "nbformat_minor": 5
}
