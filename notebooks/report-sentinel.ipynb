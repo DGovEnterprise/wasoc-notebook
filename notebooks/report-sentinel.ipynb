{
 "cells": [
  {
   "cell_type": "markdown",
   "id": "10b07e6e-ea96-42b2-86da-d78c51fa4181",
   "metadata": {
    "tags": []
   },
   "source": [
    "## Usage\n",
    "Make sure azure_notebook_reporting is installed as a first step, run below using a code cell once off\n",
    "\n",
    "```python\n",
    "%pip install --quiet git+https://github.com/wagov/wasoc-notebook.git\n",
    "```\n",
    "\n",
    "To run in Azure ML\n",
    "```python\n",
    "import os, json, pandas as pd\n",
    "from azure_notebook_reporting import KQL, BlobPath\n",
    "os.environ.update(json.load(open(f\"{os.environ['HOME']}/cloudfiles/code/nbenv.json\")))\n",
    "path = BlobPath(os.environ[\"AZURE_STORAGE_CONTAINER\"], os.environ[\"AZURE_SUBSCRIPTION\"])\n",
    "kp = KQL(path, template=\"markdown/report-sentinel.md\")\n",
    "```\n",
    "\n",
    "To run locally\n",
    "```python\n",
    "import os, json, pandas as pd\n",
    "from azure_notebook_reporting import KQL, BlobPath\n",
    "path = BlobPath(\"..\")\n",
    "kp = KQL(path, template=\"markdown/report-sentinel.md\")\n",
    "```"
   ]
  },
  {
   "cell_type": "code",
   "execution_count": null,
   "id": "60ea89ca-0543-4c60-a38f-2e2b4c41dbf7",
   "metadata": {
    "gather": {
     "logged": 1663729246896
    },
    "tags": []
   },
   "outputs": [],
   "source": [
    "import os, json, pandas as pd\n",
    "from azure_notebook_reporting import KQL, BlobPath\n",
    "from IPython import display\n",
    "\n",
    "def show(rpitem):\n",
    "    return display.HTML(rpitem.to_html(notebook_mode=True))\n",
    "\n",
    "%matplotlib agg\n",
    "\n",
    "path = BlobPath(\"..\")\n",
    "template = \"markdown/report-sentinel.md\"\n",
    "queries = {\n",
    "    \"Users and Azure AD Logins\": \"siemhealth/signins.kql\",\n",
    "    \"Email Delivery\": \"siemhealth/emaildelivery.kql\",\n",
    "    \"Incident Details\": \"siemhealth/incidentdetail.kql\",\n",
    "    \"On Premise Logins\": \"siemhealth/identitylogonevents.kql\",\n",
    "    \"External Files\": \"siemhealth/externaldownloads.kql\",\n",
    "    \"Guest Tenants\": \"siemhealth/guestdownloads.kql\",\n",
    "    \"Operating Systems\": \"siemhealth/operatingsystems.kql\",\n",
    "    \"Admin Logins (device)\": \"siemhealth/localadminlogons.kql\",\n",
    "    \"Ingestion Detail\": \"siemhealth/usage.kql\",\n",
    "}\n",
    "\n",
    "kp = KQL(path, template)\n",
    "kp.set_agency(os.environ[\"REPORT_AGENCY\"], sample_agency=os.environ[\"REPORT_SAMPLE_AGENCY\"], sample_only=False)\n",
    "kp.load_queries(queries)\n",
    "\n",
    "kp.init_report(\n",
    "    background = \"https://raw.githubusercontent.com/wagov/wasoc-notebook/main/notebooks/background.svg\",\n",
    "    entity = kp.agency_name,\n",
    "    date = kp.today.strftime(\"%B %Y\"),\n",
    "    body = \"#121212\",\n",
    "    links = \"#084595\",\n",
    "    titles = \"#CC5733\",\n",
    "    footer = \"#808080\"\n",
    ")\n",
    "\n",
    "rp = kp.report\n",
    "\n",
    "section = \"Executive Summary\"\n",
    "exec_summary = kp.nbpath / f\"markdown/exec_summaries/{kp.agency}-{kp.today.strftime('%b%Y')}.md\"\n",
    "if not exec_summary.exists():\n",
    "    exec_summary = kp.nbpath / \"markdown/exec_summaries/default.md\"\n",
    "\n",
    "rp[section] = kp.report_sections[\"Executive Summary\"].substitute(\n",
    "    agency = kp.agency_name,\n",
    "    date = kp.today.strftime(\"%B %Y\"),\n",
    "    summary = exec_summary.open().read()\n",
    ")\n",
    "\n",
    "rp[section] += kp.querystats\n",
    "show(rp[section])"
   ]
  },
  {
   "cell_type": "markdown",
   "id": "5348c91a-cbb7-419a-b12a-93c1318e868e",
   "metadata": {},
   "source": [
    "## Composing a report\n",
    "\n",
    "Setup each section, loading markdown fragments from the kp.report_sections dict and dataframes from the kp.queries dict"
   ]
  },
  {
   "cell_type": "code",
   "execution_count": null,
   "id": "a0bc3d9e-c095-460a-8f0c-0cb20dfb9a2d",
   "metadata": {},
   "outputs": [],
   "source": [
    "section = \"Users and Azure AD Logins\"\n",
    "signins = kp.queries[section][1]\n",
    "distinct_users = signins[\"UserPrincipalName\"].count()\n",
    "rp[section] = kp.report_sections[section].substitute(users=distinct_users)\n",
    "\n",
    "if kp.querystats[\"Rows\"][section] == 0:\n",
    "    rp[section] += \"*MISSING DATA: Please verify the [Microsoft Defender for Endpoint connection](https://learn.microsoft.com/en-us/azure/sentinel/connect-microsoft-365-defender?tabs=MDE)*\"\n",
    "    rp[section] += f\"** SAMPLE DATASET BELOW (replacing {kp.querystats['Columns'][section]}) **\"\n",
    "\n",
    "\n",
    "df = signins.replace(0, None).rename(columns={\"TableName\": \"SignIns\"}).groupby(\"SignIns\").count()\n",
    "df = df.T.rename(columns={\"PrimaryResult\": \"Percent of Users\"}).sort_values(\"Percent of Users\").drop(\"UserPrincipalName\")\n",
    "df = df / distinct_users * 100\n",
    "rp[section] += df.plot(kind=\"barh\", title=\"Azure AD SignIn types over past 30 days\").figure\n",
    "show(rp[section])"
   ]
  },
  {
   "cell_type": "code",
   "execution_count": null,
   "id": "5fba554c-1be8-42b9-88b5-75990d360714",
   "metadata": {},
   "outputs": [],
   "source": [
    "section = \"Email Delivery\"\n",
    "rp[section] = \"\"\n",
    "emails = kp.queries[section][1]\n",
    "\n",
    "if kp.querystats[\"Rows\"][section] == 0:\n",
    "    rp[section] += \"*MISSING DATA: Please verify the [Microsoft Defender for Office 365 connection](https://learn.microsoft.com/en-us/microsoft-365/security/office-365-security/step-by-step-guides/connect-microsoft-defender-for-office-365-to-microsoft-sentinel?view=o365-worldwide)*\"\n",
    "    rp[section] += f\"** SAMPLE DATASET BELOW (Sentinel Table {kp.querystats['Columns'][section]}) **\"\n",
    "    emails[\"DeliveryAction\"] = emails[\"DeliveryAction\"].apply(hash)\n",
    "\n",
    "df = emails.groupby([\"DeliveryAction\", \"EmailDirection\"]).agg({\"Count\": \"sum\"})\n",
    "df[\"Count\"] = df[\"Count\"] / 1000\n",
    "df = df.unstack(\"EmailDirection\").sort_values((\"Count\", \"Inbound\"), ascending=False)\n",
    "rp[section] += df.plot(kind=\"barh\", y=\"Count\", stacked=True, title=\"Total email delivered (thousands) in the past 30 days\").figure\n",
    "\n",
    "df = emails.groupby([\"EmailDirection\", \"DeliveryAction\"]).resample(\"6H\", on=\"TimeGenerated\").agg({\"Count\": \"sum\"}).sort_values(\"Count\").unstack(\"DeliveryAction\").unstack(\"EmailDirection\")\n",
    "rp[section] += df.plot(kind=\"area\", y=\"Count\", colormap=KQL.sns.color_palette(\"viridis\", as_cmap=True), title=\"Email Delivery over past 30 days, 6 hour intervals\").figure\n",
    "\n",
    "df = KQL.latest_data(emails, \"7D\")\n",
    "df = df.groupby([\"EmailDirection\", \"DeliveryAction\"]).resample(\"1H\", on=\"TimeGenerated\").agg({\"Count\": \"sum\"}).sort_values(\"Count\").unstack(\"DeliveryAction\").unstack(\"EmailDirection\")\n",
    "rp[section] += df.plot(kind=\"area\", y=\"Count\", colormap=KQL.sns.color_palette(\"viridis\", as_cmap=True), title=\"Email Delivery over past 7 days, 1 hour intervals\").figure\n",
    "\n",
    "show(rp[section])"
   ]
  },
  {
   "cell_type": "code",
   "execution_count": null,
   "id": "6521bce1-382e-4330-b728-3b70e505a447",
   "metadata": {},
   "outputs": [],
   "source": [
    "section = \"Tactics and Rules\"\n",
    "rp[section] = kp.report_sections[section].substitute()\n",
    "\n",
    "if kp.querystats[\"Rows\"][\"Incident Details\"] == 0:\n",
    "    rp[section] += \"*MISSING DATA: Please confirm there are [analytics rules](https://learn.microsoft.com/en-us/azure/sentinel/detect-threats-built-in) configured on the convert_dtypespage.*\"\n",
    "    rp[section] += f\"** SAMPLE DATASET BELOW (substituting for {kp.querystats['Columns']['Incident Details']} **\"\n",
    "    \n",
    "incidents = kp.queries[\"Incident Details\"][1]\n",
    "incidents[\"TriageHours\"] = pd.to_numeric(incidents[\"TriageHours\"].replace({\"None\": '0'}))\n",
    "    \n",
    "df = incidents.groupby([\"Status\", \"Classification\", \"Severity\", \"Tactics\", \"Rule\"])[[\"IncidentNumber\", \"TriageHours\", \"OpenHours\"]]\n",
    "df = df.agg({\"IncidentNumber\": \"nunique\", \"TriageHours\": \"sum\", \"OpenHours\": \"sum\"})\n",
    "df[\"TriageHours\"] = df[\"TriageHours\"] / df[\"IncidentNumber\"]\n",
    "df[\"OpenHours\"] = df[\"OpenHours\"] / df[\"IncidentNumber\"]\n",
    "df.groupby([\"Status\", \"Classification\", \"Severity\", \"Tactics\", \"Rule\"]).agg('sum')\n",
    "df = df.rename(columns={\"IncidentNumber\": \"Incidents\"}).convert_dtypes()\n",
    "df = df.convert_dtypes().sort_values(\"Incidents\", ascending=False)\n",
    "\n",
    "rp[section] += \"### Top 10 created incidents over past 30 days\"\n",
    "rp[section] += df.head(10).round(2)\n",
    "\n",
    "noisyrule = \"\"\n",
    "if (df[\"Incidents\"][0].sum() / df[\"Incidents\"][1].sum()) > 5:\n",
    "    df, noisyrule = df[1:], df.index.values[0][4]\n",
    "    noisyrule = f' excluding outlier \"{noisyrule}\"'\n",
    "\n",
    "rp[section] += df[\"TriageHours\"].head(10).unstack(level=[0,1,2]).plot(kind=\"barh\", stacked=False, width=1, title=f'Average Triage Hours over last 30 days{noisyrule}').figure\n",
    "rp[section] += df[\"OpenHours\"].head(10).unstack(level=[0,1,2]).plot(kind=\"barh\", stacked=False, width=1, title=f'Average Open Hours over last 30 days{noisyrule}').figure\n",
    "rp[section] += df[\"Incidents\"].head(10).unstack(level=[0,1,2]).plot(kind=\"barh\", stacked=False, width=1, title=f'Average Detections over last 30 days{noisyrule}').figure\n",
    "show(rp[section])"
   ]
  },
  {
   "cell_type": "code",
   "execution_count": null,
   "id": "1eeed499-fbc4-497d-97ec-a57044eac94a",
   "metadata": {},
   "outputs": [],
   "source": [
    "section = \"Admin Logins (device)\"\n",
    "admins = kp.queries[section][1]\n",
    "admincount = admins[admins[\"Devices\"] > 5][\"AccountName\"].nunique()\n",
    "rp[section] = kp.report_sections[section].substitute(admincount = admincount)\n",
    "\n",
    "if kp.querystats[\"Rows\"][section] == 0:\n",
    "    rp[section] += \"*MISSING DATA: Please verify the [Microsoft Defender for Endpoint connection](https://learn.microsoft.com/en-us/azure/sentinel/connect-microsoft-365-defender?tabs=MDE)*\"\n",
    "    rp[section] += f\"** SAMPLE DATASET BELOW (replacing {kp.querystats['Columns'][section]}) **\"\n",
    "    \n",
    "\n",
    "rp[section] += admins.head(10).plot(kind=\"barh\",x=\"AccountName\", title=\"Top 10 admin user signins over past 30 days\").figure\n",
    "show(rp[section])\n",
    "\n"
   ]
  },
  {
   "cell_type": "code",
   "execution_count": null,
   "id": "a7c37a43-8a75-46b8-8eb0-945f02110e98",
   "metadata": {},
   "outputs": [],
   "source": [
    "section = \"External Files\"\n",
    "rp[section] = \"\"\n",
    "spfiles = kp.queries[section][1]\n",
    "\n",
    "if kp.querystats[\"Rows\"][section] == 0:\n",
    "    rp[section] += \"*MISSING DATA: Please verify the [Microsoft Defender for Endpoint connection](https://learn.microsoft.com/en-us/azure/sentinel/connect-microsoft-365-defender?tabs=MDE)*\"\n",
    "    rp[section] += f\"** SAMPLE DATASET BELOW (replacing {kp.querystats['Columns'][section]}) **\"\n",
    "\n",
    "rp[section] += spfiles.head(10).iloc[:,:-1].set_index(\"FileUrl\", drop=True).head(10)\n",
    "show(rp[section])"
   ]
  },
  {
   "cell_type": "code",
   "execution_count": null,
   "id": "7a3aa052-1c8d-4bfe-9357-75571db3a75e",
   "metadata": {},
   "outputs": [],
   "source": [
    "section = \"Guest Tenants\"\n",
    "rp[section] = \"\"\n",
    "tenants = kp.queries[section][1]\n",
    "\n",
    "if kp.querystats[\"Rows\"][section] == 0:\n",
    "    rp[section] += \"*MISSING DATA: Please verify the [Microsoft Defender for Endpoint connection](https://learn.microsoft.com/en-us/azure/sentinel/connect-microsoft-365-defender?tabs=MDE)*\"\n",
    "    rp[section] += f\"** SAMPLE DATASET BELOW (replacing {kp.querystats['Columns'][section]}) **\"\n",
    "\n",
    "rp[section] += tenants.iloc[:,:-1].set_index(\"Guest Domain\", drop=True).head(10)\n",
    "show(rp[section])"
   ]
  },
  {
   "cell_type": "code",
   "execution_count": null,
   "id": "f614dd8a-f78e-472c-b7c3-34db5fa1a651",
   "metadata": {
    "tags": []
   },
   "outputs": [],
   "source": [
    "section = \"Cost Optimisation\"\n",
    "rp[section] = kp.report_sections[section].substitute()\n",
    "\n",
    "ingestion = kp.queries[\"Ingestion Detail\"][1]\n",
    "ingestion[\"GB\"] = ingestion[\"IngestionVolume\"].map(lambda v: v / 1000)\n",
    "df = pd.DataFrame(ingestion.pivot(columns=\"Table\")[\"GB\"].sum())\n",
    "df[\"Daily GB\"], df[\"30 days\"] = df[0] / 30, df[0]\n",
    "df = df.drop(0, axis=1)\n",
    "df.loc[\"Total\"] = df.sum()\n",
    "df = df.sort_values(by=\"Daily GB\", ascending=False)\n",
    "rp[section] += df.head(11).round(1)\n",
    "\n",
    "title = \"Top 10 Ingestion tables over the past 30 days, daily average\"\n",
    "rp[section] += pd.DataFrame(df[\"Daily GB\"].head(11)[1:]).plot(kind=\"barh\", title=title, rot=0).figure\n",
    "\n",
    "df = KQL.latest_data(ingestion, \"4D\")\n",
    "df = KQL.label_size(df, \"Table\", \"GB\")\n",
    "df.groupby([\"TimeGenerated\", \"Table\"])[\"GB\"].agg(\"sum\").unstack(\"Table\")\n",
    "\n",
    "oversized_tables = \", \".join(df[df.oversized][\"Table\"].unique())\n",
    "title = \"Ingestion by table over the past 4 days, 1 hour intervals\"\n",
    "if oversized_tables:\n",
    "    oversized = df[df.oversized].groupby([\"TimeGenerated\", \"Table\"])[\"GB\"].agg(\"sum\").unstack(\"Table\").iloc[:, ::-1]\n",
    "    rp[section] += oversized.plot(kind=\"area\", stacked=True, title=f\"High Volume {title}\").figure\n",
    "    df = df[df.oversized == False]\n",
    "df = df.groupby([\"TimeGenerated\", \"Table\"])[\"GB\"].agg(\"sum\").unstack(\"Table\").iloc[:, ::-1]\n",
    "rp[section] += df.plot(kind=\"area\", title=title, stacked=True).figure\n",
    "show(rp[section])"
   ]
  },
  {
   "cell_type": "code",
   "execution_count": null,
   "id": "6896f88a-170d-481d-aa21-caf66ddba316",
   "metadata": {},
   "outputs": [],
   "source": []
  },
  {
   "cell_type": "code",
   "execution_count": null,
   "id": "a5f71341-0d8d-4b3d-bd2a-e812dd9b6d03",
   "metadata": {
    "tags": []
   },
   "outputs": [],
   "source": [
    "kp.report_pdf()"
   ]
  },
  {
   "cell_type": "code",
   "execution_count": null,
   "id": "7d674a81-019f-4259-af1c-9e335677e768",
   "metadata": {},
   "outputs": [],
   "source": []
  }
 ],
 "metadata": {
  "kernel_info": {
   "name": "python310-sdkv2"
  },
  "kernelspec": {
   "display_name": "Python 3 (ipykernel)",
   "language": "python",
   "name": "python3"
  },
  "language_info": {
   "codemirror_mode": {
    "name": "ipython",
    "version": 3
   },
   "file_extension": ".py",
   "mimetype": "text/x-python",
   "name": "python",
   "nbconvert_exporter": "python",
   "pygments_lexer": "ipython3",
   "version": "3.10.6"
  },
  "microsoft": {
   "host": {
    "AzureML": {
     "notebookHasBeenCompleted": true
    }
   }
  },
  "nteract": {
   "version": "nteract-front-end@1.0.0"
  }
 },
 "nbformat": 4,
 "nbformat_minor": 5
}
