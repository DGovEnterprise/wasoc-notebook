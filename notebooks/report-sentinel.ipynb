{
 "cells": [
  {
   "cell_type": "markdown",
   "id": "b5f5cb60-a670-4671-834b-be860b0a7325",
   "metadata": {
    "jupyter": {
     "outputs_hidden": false,
     "source_hidden": false
    },
    "nteract": {
     "transient": {
      "deleting": false
     }
    }
   },
   "source": [
    "%pip install --quiet git+https://github.com/wagov/wasoc-notebook.git"
   ]
  },
  {
   "cell_type": "markdown",
   "id": "10b07e6e-ea96-42b2-86da-d78c51fa4181",
   "metadata": {},
   "source": [
    "General imports and setups - convert the above cell to python code and run once to pull in all the required libraries."
   ]
  },
  {
   "cell_type": "code",
   "execution_count": null,
   "id": "60ea89ca-0543-4c60-a38f-2e2b4c41dbf7",
   "metadata": {
    "gather": {
     "logged": 1663729246896
    },
    "tags": []
   },
   "outputs": [],
   "source": [
    "import os, json\n",
    "import pandas as pd\n",
    "from string import Template\n",
    "from textwrap import shorten, dedent\n",
    "from azure_notebook_reporting import KQL, BlobPath\n",
    "\n",
    "# Setup for running in Azure ML\n",
    "# os.environ.update(json.load(open(f\"{os.environ['HOME']}/cloudfiles/code/nbenv.json\")))\n",
    "# path = BlobPath(os.environ[\"AZURE_STORAGE_CONTAINER\"], os.environ[\"AZURE_SUBSCRIPTION\"])\n",
    "\n",
    "# Setup for running using local filesystem\n",
    "path = BlobPath(\"..\")\n",
    "\n",
    "report_date, month = pd.Timestamp(\"today\").strftime(\"%B %Y\"), pd.Timestamp(\"today\").strftime(\"%b%Y\")\n",
    "\n",
    "kp = KQL(path).set_agency(os.environ[\"REPORT_AGENCY\"])\n",
    "kp_sample = KQL(path).set_agency(os.environ[\"REPORT_SAMPLE_AGENCY\"])\n",
    "sample_only = False # if True, build report with only mock data\n",
    "# if False, build report as usual, only substituting missing data with sample data\n",
    "# sections should 'anonymise' sample data prior to rendering\n",
    "\n",
    "report = kp.Page(\n",
    "    title=f\"WA SOC Preview Sentinel Report\", \n",
    "    background = \"https://raw.githubusercontent.com/wagov/wasoc-notebook/main/notebooks/background.svg\",\n",
    "    entity = kp.agency_name,\n",
    "    date = report_date,\n",
    "    body = \"#121212\",\n",
    "    links = \"#084595\",\n",
    "    titles = \"#CC5733\",\n",
    "    footer = \"#808080\", \n",
    ")\n",
    "%matplotlib agg"
   ]
  },
  {
   "cell_type": "code",
   "execution_count": null,
   "id": "e7503385-d5d6-4d3a-9790-fb3ecaefb1fa",
   "metadata": {},
   "outputs": [],
   "source": []
  },
  {
   "cell_type": "markdown",
   "id": "fc359c70-a912-489e-89c5-5283b729c5c1",
   "metadata": {},
   "source": [
    "Execute queries against external apis and gather some statistics"
   ]
  },
  {
   "cell_type": "code",
   "execution_count": null,
   "id": "74bb6ee6",
   "metadata": {
    "gather": {
     "logged": 1663729306673
    }
   },
   "outputs": [],
   "source": [
    "%%capture\n",
    "queries = {\n",
    "    \"Incident Details\": \"siemhealth/incidentdetail.kql\",\n",
    "    \"Alert Details\": \"siemhealth/alertdetail.kql\",\n",
    "    \"Local Admins\": \"siemhealth/localadminlogons.kql\",\n",
    "    \"Email Delivery\": \"siemhealth/emaildelivery.kql\",\n",
    "    \"External Files\": \"siemhealth/externaldownloads.kql\",\n",
    "    \"Guest Tenants\": \"siemhealth/guestdownloads.kql\",\n",
    "    \"On Premise Logons\": \"siemhealth/identitylogonevents.kql\",\n",
    "    \"Azure AD Logons\": \"siemhealth/signins.kql\",\n",
    "    \"Operating Systems\": \"siemhealth/operatingsystems.kql\",\n",
    "    \"Ingestion Detail\": \"siemhealth/usage.kql\",\n",
    "}\n",
    "querystats = {}\n",
    "for key, kql in queries.items():\n",
    "    if sample_only:\n",
    "        queries[key] = kp.kql2df((kp.kql / kql).open().read() + \"| take 0\")\n",
    "    else:\n",
    "        queries[key] = kp.kql2df(kql)\n",
    "    if queries[key].count().max() == 1:\n",
    "        querystats[key] = [0, f\"{queries[key].columns[0]} - {queries[key].iloc[0,0]}\"]\n",
    "        queries[key] = kp_sample.kql2df(kql)\n",
    "    else:\n",
    "        querystats[key] = [queries[key].count().max(), len(queries[key].columns)]\n",
    "querystats = pd.DataFrame(querystats).T.rename(columns={0: \"Rows\", 1: \"Columns\"}).sort_values(\"Rows\")"
   ]
  },
  {
   "cell_type": "markdown",
   "id": "001dbe49-dba6-4030-b720-e2df1ec25cc9",
   "metadata": {},
   "source": [
    "The below two cells are to build an easy to edit set of markdown templates that can be used to populate the report"
   ]
  },
  {
   "cell_type": "code",
   "execution_count": null,
   "id": "3cabf418-8acb-4861-81f2-5e543473f541",
   "metadata": {
    "tags": []
   },
   "outputs": [],
   "source": [
    "kp.path"
   ]
  },
  {
   "cell_type": "code",
   "execution_count": null,
   "id": "fe75605a-af3a-42e8-937a-f9d19ea5c045",
   "metadata": {},
   "outputs": [],
   "source": []
  },
  {
   "cell_type": "code",
   "execution_count": null,
   "id": "6aa59877-6c3d-463c-a999-8922701a3e3f",
   "metadata": {},
   "outputs": [],
   "source": [
    "section = \"Executive Summary\"\n",
    "report[section] = f\"*{kp.agency_name} - {report_date}*\"\n",
    "exec_summary = kp.nbpath / \"exec_summaries\" / f\"{kp.agency}-{month}.md\"\n",
    "if not exec_summary.exists():\n",
    "    exec_summary = kp.nbpath / \"exec_summaries\" / \"default.md\"\n",
    "report[section] += exec_summary.open().read()\n",
    "\n",
    "report += dedent(\"\"\"\n",
    "    \n",
    "\"\"\")\n",
    "\n",
    "report += KQL.minitable(querystats)\n",
    "\n",
    "section = \"Tactics and Rules\"\n",
    "report[section] = dedent(\"\"\"\n",
    "    \n",
    "\"\"\")\n",
    "\n",
    "if querystats[\"Rows\"][\"Incident Details\"] == 0:\n",
    "    report[section] += \"*MISSING DATA: Please confirm there are [analytics rules](https://learn.microsoft.com/en-us/azure/sentinel/detect-threats-built-in) configured on the Analytics page.*\"\n",
    "    report[section] += f\"** SAMPLE DATASET BELOW (substituting for {querystats['Columns']['Incident Details']} **\"\n",
    "df = queries[\"Incident Details\"].groupby([\"Status\", \"Classification\", \"Severity\", \"Tactics\", \"Title\"])\n",
    "df = df[\"IncidentNumber\"].nunique().unstack(level=[0,1]).dropna(axis=1, how=\"all\").fillna(0)\n",
    "df[\"Total\"] = df.sum(numeric_only=True, axis=1)\n",
    "df = df.sort_values(\"Total\", ascending=False).replace({0: \"\"}).head(5)\n",
    "report[section] += KQL.minitable(df)\n",
    "\n",
    "df, interval = KQL.dfago(queries[\"Incident Details\"], \"7D\"), \"3H\"\n",
    "tactics = df.groupby(\"Tactics\").resample(interval, on=\"TimeGenerated\")[\"IncidentNumber\"].nunique().reset_index()\n",
    "report[section] += KQL.df2fig(tactics, \"Detections by Tactic\", \"TimeGenerated\", \"IncidentNumber\", \"Tactics\")\n",
    "rules = df.groupby(\"Title\").resample(interval, on=\"TimeGenerated\")[\"IncidentNumber\"].nunique().reset_index().rename(columns={\"Title\": \"Rule\"})\n",
    "report[section] += KQL.df2fig(rules, \"Detections by Rule\", \"TimeGenerated\", \"IncidentNumber\", \"Rule\")"
   ]
  },
  {
   "cell_type": "code",
   "execution_count": null,
   "id": "7cfe34a0-5fb5-48b8-a5da-f95e366da40d",
   "metadata": {
    "tags": []
   },
   "outputs": [],
   "source": [
    "section = \"Cost Optimisation\"\n",
    "report[\n",
    "    section\n",
    "] = \"\"\"\n",
    "\n",
    "\"\"\"\n",
    "df = KQL.dfago(queries[\"Ingestion Detail\"], \"5D\")\n",
    "df[\"GB\"] = df.IngestionVolume.map(lambda v: v / 1000)\n",
    "report[section] += KQL.df2fig(df[df[\"Billable\"] == \"True\"], \"Billable Ingestion (GB) by Table\", \"TimeGenerated\", \"GB\", \"Table\")"
   ]
  },
  {
   "cell_type": "code",
   "execution_count": null,
   "id": "a5f71341-0d8d-4b3d-bd2a-e812dd9b6d03",
   "metadata": {
    "tags": []
   },
   "outputs": [],
   "source": [
    "\n",
    "# report.save_html(\"report.html\")\n",
    "# (kp.reports / kp.agency / f\"{kp.agency}-{month}-siemhealth.html\").write_text(open(\"report.html\").read())\n",
    "# report.save_pdf(\"report.pdf\")\n",
    "# (kp.reports / kp.agency / f\"{kp.agency}-{month}-siemhealth.pdf\").write_bytes(open(\"report.pdf\", \"rb\").read())\n",
    "html = report.save_pdf(\"report.pdf\", return_html=True)\n",
    "open(\"report.pdf.html\", \"w\").write(html)\n",
    "from IPython.display import IFrame\n",
    "IFrame(\"report.pdf\", width=1200, height=800)"
   ]
  }
 ],
 "metadata": {
  "kernel_info": {
   "name": "python310-sdkv2"
  },
  "kernelspec": {
   "display_name": "Python 3 (ipykernel)",
   "language": "python",
   "name": "python3"
  },
  "language_info": {
   "codemirror_mode": {
    "name": "ipython",
    "version": 3
   },
   "file_extension": ".py",
   "mimetype": "text/x-python",
   "name": "python",
   "nbconvert_exporter": "python",
   "pygments_lexer": "ipython3",
   "version": "3.10.6"
  },
  "microsoft": {
   "host": {
    "AzureML": {
     "notebookHasBeenCompleted": true
    }
   }
  },
  "nteract": {
   "version": "nteract-front-end@1.0.0"
  }
 },
 "nbformat": 4,
 "nbformat_minor": 5
}
