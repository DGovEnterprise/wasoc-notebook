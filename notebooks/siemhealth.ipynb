{
 "cells": [
  {
   "cell_type": "raw",
   "id": "305479f6-85b7-4f06-9099-4a48e04fbc7f",
   "metadata": {
    "jupyter": {
     "outputs_hidden": false,
     "source_hidden": false
    },
    "nteract": {
     "transient": {
      "deleting": false
     }
    }
   },
   "source": [
    "%pip install --quiet git+https://github.com/wagov/wasoc-notebook.git"
   ]
  },
  {
   "cell_type": "code",
   "execution_count": null,
   "id": "60ea89ca-0543-4c60-a38f-2e2b4c41dbf7",
   "metadata": {
    "gather": {
     "logged": 1663729246896
    },
    "tags": []
   },
   "outputs": [],
   "source": [
    "import os, json\n",
    "import esparto\n",
    "import seaborn as sns\n",
    "import pandas as pd\n",
    "from datetime import date\n",
    "from azure_notebook_reporting import KQL, BlobPath\n",
    "\n",
    "os.environ.update(json.load(open(f\"{os.environ['HOME']}/.nbenv.json\")))\n",
    "\n",
    "sns.set_theme(style=\"white\", context=\"paper\", font_scale=0.7, rc={\"figure.figsize\": (4, 3), \"figure.constrained_layout.use\": True, \"legend.loc\": \"upper right\"})\n",
    "\n",
    "kp = KQL(BlobPath(os.environ[\"AZURE_STORAGE_CONTAINER\"], os.environ[\"AZURE_SUBSCRIPTION\"])).set_agency(\"...\")\n"
   ]
  },
  {
   "cell_type": "code",
   "execution_count": null,
   "id": "74bb6ee6",
   "metadata": {
    "gather": {
     "logged": 1663729306673
    }
   },
   "outputs": [],
   "source": [
    "incidents = kp.kql2df(\"siemhealth/incidentdetail.kql\")\n",
    "alerts = kp.kql2df(\"siemhealth/alertdetail.kql\")\n",
    "devices = kp.kql2df(\"siemhealth/operatingsystems.kql\")\n",
    "usage = kp.kql2df(\"siemhealth/usage.kql\", timespan=\"P7D\")\n"
   ]
  },
  {
   "cell_type": "code",
   "execution_count": null,
   "id": "f5da980b-22b5-424e-998d-048d0d3785a8",
   "metadata": {},
   "outputs": [],
   "source": [
    "from textwrap import shorten\n",
    "import matplotlib.dates as mdates\n",
    "\n",
    "\n",
    "def df2fig(dataframe, title, x, y, split, maxsplit=10, kind=\"area\", quantile=0.9, yclip=10):\n",
    "    df = dataframe.copy(deep=True)\n",
    "    splitsizes = df.groupby(split).sum(numeric_only=True).sort_values(y, ascending=False)\n",
    "    df[split] = df[split].replace({label: \"Other\" for label in splitsizes[maxsplit:].index})\n",
    "    upper = splitsizes[y].quantile(quantile)\n",
    "    yspread = splitsizes[y].max() / upper\n",
    "    if yspread > yclip:\n",
    "        splits = splitsizes[y] > upper\n",
    "        uppersplit, lowersplit = set(splits[splits == True].index), set(splits[splits == False].index)\n",
    "        dfs = {title: df[df[split].isin(lowersplit)], f\"{title} (Outliers > {quantile})\": df[df[split].isin(uppersplit)]}\n",
    "    else:\n",
    "        dfs = {title: df}\n",
    "    figures = []\n",
    "    for title, df in dfs.items():\n",
    "        df = df.groupby([x, split])[y].sum().unstack()\n",
    "        df = df[df.sum(numeric_only=True).sort_values(ascending=False).index]\n",
    "        ax = df.plot(kind=kind, title=title)\n",
    "        handles, labels = ax.get_legend_handles_labels()\n",
    "        ax.legend(reversed(handles), reversed(labels), title=split)\n",
    "        figures.append(ax.figure)\n",
    "    figures.reverse()\n",
    "    return figures\n"
   ]
  },
  {
   "cell_type": "code",
   "execution_count": null,
   "id": "6aa59877-6c3d-463c-a999-8922701a3e3f",
   "metadata": {},
   "outputs": [],
   "source": [
    "report_date, month = date.today().strftime(\"%B %Y\"), date.today().strftime(\"%b%Y\")\n",
    "\n",
    "exec_summary = kp.nbpath / \"exec_summaries\" / f\"{kp.agency}-{month}.md\"\n",
    "if not exec_summary.exists():\n",
    "    exec_summary = kp.nbpath / \"exec_summaries\" / \"default.md\"\n",
    "\n",
    "report = esparto.Page(title=f\"SIEM Health Report\")\n",
    "report += f\"#### {kp.agency_name} - {report_date}\\n{exec_summary.open().read()}\"\n",
    "report[\"Incidents and Alerts\"] = df2fig(incidents, \"Detections by Tactic\", \"TimeGenerated\", \"incidents\", \"Tactics\")\n",
    "report[\"Incidents and Alerts\"] += df2fig(incidents, \"Detections by Rule\", \"TimeGenerated\", \"incidents\", \"Title\")\n",
    "usage[\"GB\"] = pd.to_numeric(usage.IngestionVolume).map(lambda v: v / 1000)\n",
    "report[\"Usage\"] = df2fig(usage, \"Ingestion (GB) by Table\", \"TimeGenerated\", \"GB\", \"Table\")\n",
    "report[\"Usage\"] += df2fig(usage[usage[\"Billable\"] == \"True\"], \"Billable Ingestion (GB) by Table\", \"TimeGenerated\", \"GB\", \"Table\")\n",
    "report.save_html(\"report.html\")\n",
    "report.save_pdf(\"report.pdf\")\n"
   ]
  },
  {
   "cell_type": "code",
   "execution_count": null,
   "id": "7cfe34a0-5fb5-48b8-a5da-f95e366da40d",
   "metadata": {},
   "outputs": [],
   "source": []
  }
 ],
 "metadata": {
  "kernel_info": {
   "name": "python310-sdkv2"
  },
  "kernelspec": {
   "display_name": "Python 3.10 - SDK V2",
   "language": "python",
   "name": "python310-sdkv2"
  },
  "language_info": {
   "codemirror_mode": {
    "name": "ipython",
    "version": 3
   },
   "file_extension": ".py",
   "mimetype": "text/x-python",
   "name": "python",
   "nbconvert_exporter": "python",
   "pygments_lexer": "ipython3",
   "version": "3.10.4"
  },
  "microsoft": {
   "host": {
    "AzureML": {
     "notebookHasBeenCompleted": true
    }
   }
  },
  "nteract": {
   "version": "nteract-front-end@1.0.0"
  }
 },
 "nbformat": 4,
 "nbformat_minor": 5
}
