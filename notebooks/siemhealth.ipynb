{
    "cells": [
     {
      "cell_type": "raw",
      "id": "8f855aba-3d02-493e-951d-01b5e9794da5",
      "metadata": {
       "jupyter": {
        "outputs_hidden": false,
        "source_hidden": false
       },
       "nteract": {
        "transient": {
         "deleting": false
        }
       }
      },
      "source": [
       "%pip install --quiet git+https://github.com/wagov/wasoc-notebook.git"
      ]
     },
     {
      "cell_type": "code",
      "execution_count": 120,
      "id": "60ea89ca-0543-4c60-a38f-2e2b4c41dbf7",
      "metadata": {
       "gather": {
        "logged": 1663729246896
       },
       "tags": []
      },
      "outputs": [],
      "source": [
       "import os, json\n",
       "import esparto, tinycss2\n",
       "import seaborn as sns\n",
       "import pandas as pd\n",
       "from datetime import date\n",
       "from textwrap import shorten, dedent\n",
       "from azure_notebook_reporting import KQL, BlobPath\n",
       "\n",
       "os.environ.update(json.load(open(f\"{os.environ['HOME']}/cloudfiles/code/nbenv.json\")))\n",
       "\n",
       "report_date, month = date.today().strftime(\"%B %Y\"), date.today().strftime(\"%b%Y\")\n",
       "\n",
       "kp = KQL(BlobPath(os.environ[\"AZURE_STORAGE_CONTAINER\"], os.environ[\"AZURE_SUBSCRIPTION\"])).set_agency(\"...\")\n",
       "kp_sample = KQL(BlobPath(os.environ[\"AZURE_STORAGE_CONTAINER\"], os.environ[\"AZURE_SUBSCRIPTION\"])).set_agency(\"...\")\n",
       "sample_only = False # if True, build report with only mock data\n",
       "# if False, build report as usual, only substituting missing data with sample data\n",
       "# sections should 'anonymise' sample data prior to rendering\n",
       "\n",
       "sns.set_theme(style=\"darkgrid\", context=\"paper\", font_scale=0.7, rc={\"figure.figsize\": (7, 4), \"figure.constrained_layout.use\": True, \"legend.loc\": \"upper right\"})\n",
       "\n",
       "background_svg = os.getcwd() + \"/background.svg\"\n",
       "extra_css = tinycss2.parse_stylesheet(\"\"\"\n",
       "@media print {\n",
       "    .es-page-title,\n",
       "    .es-section-title,\n",
       "    .es-row-title,\n",
       "    .es-column-title {\n",
       "        page-break-after: avoid;\n",
       "        color: #CC5733;\n",
       "        font-weight: bold;\n",
       "    }\n",
       "\n",
       "    .es-row-body,\n",
       "    .es-column-body,\n",
       "    .es-card {\n",
       "        page-break-inside: avoid;\n",
       "    }\n",
       "\n",
       "    .es-column-body,\n",
       "    .es-card,\n",
       "    .es-card-body {\n",
       "        flex: 1 !important;\n",
       "    }\n",
       "}\n",
       "\n",
       "body > main {\n",
       "    font-family: arial;\n",
       "    font-size: 0.8em;\n",
       "    color: #444;\n",
       "}\n",
       "\n",
       "@page {\n",
       "    size: A4 portrait;\n",
       "    font-family: arial;\n",
       "    margin: 1.5cm 1cm;\n",
       "    @bottom-right {\n",
       "        font-size: 0.6em;\n",
       "        line-height: 1.5em;\n",
       "        margin-bottom: -0.2cm;\n",
       "        margin-right: -0.5cm;\n",
       "        color: #aaa;\n",
       "        \"\"\" + f\"content: 'WA SOC Sentinel Report ({kp.agency_name})\\\\a{report_date} | ' counter(page) ' / ' counter(pages)\" + \"\"\";\n",
       "        white-space: pre;\n",
       "    }\n",
       "    background: url('\"\"\" + background_svg + \"\"\"');\n",
       "    background-position: -1cm -1.5cm;\n",
       "    background-size: 210mm 297mm;\n",
       "}\n",
       "\n",
       "html > body {\n",
       "    background-color: transparent !important;\n",
       "}\n",
       "\"\"\")\n",
       "\n",
       "\n",
       "\n",
       "def minitable(df):\n",
       "    html = df.to_html(classes=[\"table\", \"table-hover\", \"small\"])\n",
       "    html = f\"<div class='table-responsive es-table'><small><small>{html}</small></small></div>\"\n",
       "    return html\n",
       "\n",
       "\n",
       "def dfago(df, timespan, col=\"TimeGenerated\"):\n",
       "    df = df.copy(deep=True)\n",
       "    return df[df[col] >= (df[col].max() - pd.to_timedelta(timespan))].reset_index()"
      ]
     },
     {
      "cell_type": "code",
      "execution_count": 94,
      "id": "74bb6ee6",
      "metadata": {
       "gather": {
        "logged": 1663729306673
       }
      },
      "outputs": [],
      "source": [
       "%%capture\n",
       "queries = {\n",
       "    \"Incident Details\": \"siemhealth/incidentdetail.kql\",\n",
       "    \"Alert Details\": \"siemhealth/alertdetail.kql\",\n",
       "    \"Local Admins\": \"siemhealth/localadminlogons.kql\",\n",
       "    \"Email Delivery\": \"siemhealth/emaildelivery.kql\",\n",
       "    \"External Files\": \"siemhealth/externaldownloads.kql\",\n",
       "    \"Guest Tenants\": \"siemhealth/guestdownloads.kql\",\n",
       "    \"On Premise Logons\": \"siemhealth/identitylogonevents.kql\",\n",
       "    \"Azure AD Logons\": \"siemhealth/signins.kql\",\n",
       "    \"Operating Systems\": \"siemhealth/operatingsystems.kql\",\n",
       "    \"Ingestion Detail\": \"siemhealth/usage.kql\",\n",
       "}\n",
       "querystats = {}\n",
       "for key, kql in queries.items():\n",
       "    if sample_only:\n",
       "        queries[key] = kp.kql2df((kp.kql / kql).open().read() + \"| take 0\")\n",
       "    else:\n",
       "        queries[key] = kp.kql2df(kql)\n",
       "    if queries[key].count().max() == 1:\n",
       "        querystats[key] = [0, f\"{queries[key].columns[0]} - {queries[key].iloc[0,0]}\"]\n",
       "        queries[key] = kp_sample.kql2df(kql)\n",
       "    else:\n",
       "        querystats[key] = [queries[key].count().max(), len(queries[key].columns)]\n",
       "querystats = pd.DataFrame(querystats).T.rename(columns={0: \"Rows\", 1: \"Columns\"}).sort_values(\"Rows\")"
      ]
     },
     {
      "cell_type": "code",
      "execution_count": 95,
      "id": "6aa59877-6c3d-463c-a999-8922701a3e3f",
      "metadata": {},
      "outputs": [],
      "source": [
       "%matplotlib agg\n",
       "report = esparto.Page(title=f\"WA SOC Sentinel Report (Preview)\", table_of_contents=True)\n",
       "section = \"Executive Summary\"\n",
       "report[section] = f\"*{kp.agency_name} - {report_date}*\"\n",
       "exec_summary = kp.nbpath / \"exec_summaries\" / f\"{kp.agency}-{month}.md\"\n",
       "if not exec_summary.exists():\n",
       "    exec_summary = kp.nbpath / \"exec_summaries\" / \"default.md\"\n",
       "report[section] += exec_summary.open().read()\n",
       "\n",
       "report += dedent(\"\"\"\n",
       "    ### Data volume queries\n",
       "    This report aggregates information from several backend tables across the past 30 days. Some data is aggregated, while other elements include a top N type analysis of key useful entries.\n",
       "    Below is a summary of data visible to the WA SOC in this environment from least to most. If there are any rows with **No data in timespan** under \"Columns\" \n",
       "    please review the [WA SOC Microsoft Sentinel Connector Guidance](https://github.com/wagov/soc-onboarding/blob/main/Sentinel-Connector-Guidance.md) for details on how to ingest additional data.\n",
       "\n",
       "    **Report Data Sources**\n",
       "\"\"\")\n",
       "\n",
       "report += minitable(querystats)\n",
       "\n",
       "section = \"Tactics and Rules\"\n",
       "report[section] = dedent(\"\"\"\n",
       "    The below charts show what tactics and rules are triggering your Sentinel incidents. An incident can include multiple alerts. \n",
       "    It's an aggregation of all the relevant evidence for a specific investigation. An incident is created based on [analytics rules](https://learn.microsoft.com/en-us/azure/sentinel/detect-threats-built-in) configured on the Analytics page. \n",
       "    The properties related to the alerts, such as severity and status, are set at the incident level. After you let Microsoft Sentinel know what kinds of threats you're looking for and how to find them, you can monitor detected threats by investigating incidents.\n",
       "    For more information see [Using Sentinel to investigate Security Incidents](https://learn.microsoft.com/en-us/azure/sentinel/investigate-cases).\n",
       "\"\"\")\n",
       "\n",
       "if querystats[\"Rows\"][\"Incident Details\"] == 0:\n",
       "    report[section] += \"*MISSING DATA: Please confirm there are [analytics rules](https://learn.microsoft.com/en-us/azure/sentinel/detect-threats-built-in) configured on the Analytics page.*\"\n",
       "    report[section] += f\"** SAMPLE DATASET BELOW (substituting for {querystats['Columns']['Incident Details']} **\"\n",
       "df = queries[\"Incident Details\"].groupby([\"Status\", \"Classification\", \"Severity\", \"Tactics\", \"Title\"])\n",
       "df = df[\"IncidentNumber\"].nunique().unstack(level=[0,1]).dropna(axis=1, how=\"all\").fillna(0)\n",
       "df[\"Total\"] = df.sum(numeric_only=True, axis=1)\n",
       "df = df.sort_values(\"Total\", ascending=False).replace({0: \"\"}).head(5)\n",
       "report[section] += minitable(df)\n",
       "\n",
       "df, interval = dfago(queries[\"Incident Details\"], \"7D\"), \"3H\"\n",
       "tactics = df.groupby(\"Tactics\").resample(interval, on=\"TimeGenerated\")[\"IncidentNumber\"].nunique().reset_index()\n",
       "report[section] += KQL.df2fig(tactics, \"Detections by Tactic\", \"TimeGenerated\", \"IncidentNumber\", \"Tactics\")\n",
       "rules = df.groupby(\"Title\").resample(interval, on=\"TimeGenerated\")[\"IncidentNumber\"].nunique().reset_index().rename(columns={\"Title\": \"Rule\"})\n",
       "report[section] += KQL.df2fig(rules, \"Detections by Rule\", \"TimeGenerated\", \"IncidentNumber\", \"Rule\")"
      ]
     },
     {
      "cell_type": "code",
      "execution_count": 96,
      "id": "7cfe34a0-5fb5-48b8-a5da-f95e366da40d",
      "metadata": {
       "tags": []
      },
      "outputs": [],
      "source": [
       "section = \"Cost Optimisation\"\n",
       "report[\n",
       "    section\n",
       "] = \"\"\"\n",
       "Microsoft Sentinel has builtin [queries to understand your data ingestion](https://docs.microsoft.com/en-us/azure/sentinel/billing-monitor-costs#run-queries-to-understand-your-data-ingestion) at a per table level. To get further granularity you can look at specific devices sending a lot of data using [additional usage queries](https://docs.microsoft.com/en-us/azure/azure-monitor/logs/log-analytics-workspace-insights-overview#additional-usage-queries) or directly run manual queries from [Investigate your Log Analytics usage](https://docs.microsoft.com/en-us/azure/azure-monitor/logs/manage-cost-storage#investigate-your-log-analytics-usage).\n",
       "\n",
       "Once you have identified the high cost items, you can reduce the events generated at the source, using a [Logstash filter](https://docs.microsoft.com/en-us/azure/sentinel/connect-logstash) for a custom source or with configuration in Sentinel itself:\n",
       "\n",
       "- [Ingestion time transformations](https://docs.microsoft.com/en-us/azure/azure-monitor/logs/ingestion-time-transformations) - should be used to eliminate low value logs before they are persisted within Log Analytics & Sentinel\n",
       "- [Basic Logs](https://docs.microsoft.com/en-us/azure/azure-monitor/logs/basic-logs-configure?tabs=cli-1%2Cportal-1) - should be used for high volume tables that aren't queried regularly (approx 1/4 cost per GB ingested)\n",
       "\n",
       "The below chart shows your ingestion usage by table over the past week. \n",
       "Typically your ingestion should be under 30MB per licensed user in your tenant (5MB of that is included for free under the \n",
       "[Microsoft Sentinel benefit for Microsoft 365 E5, A5, F5, and G5 customers](https://azure.microsoft.com/en-us/offers/sentinel-microsoft-365-offer/)).\n",
       "\"\"\"\n",
       "df = dfago(queries[\"Ingestion Detail\"], \"5D\")\n",
       "df[\"GB\"] = df.IngestionVolume.map(lambda v: v / 1000)\n",
       "report[section] += KQL.df2fig(df[df[\"Billable\"] == \"True\"], \"Billable Ingestion (GB) by Table\", \"TimeGenerated\", \"GB\", \"Table\")"
      ]
     },
     {
      "cell_type": "code",
      "execution_count": 121,
      "id": "a5f71341-0d8d-4b3d-bd2a-e812dd9b6d03",
      "metadata": {
       "tags": []
      },
      "outputs": [
       {
        "data": {
         "text/html": [
          "\n",
          "        <iframe\n",
          "            width=\"1200\"\n",
          "            height=\"800\"\n",
          "            src=\"report.pdf\"\n",
          "            frameborder=\"0\"\n",
          "            allowfullscreen\n",
          "            \n",
          "        ></iframe>\n",
          "        "
         ],
         "text/plain": [
          "<IPython.lib.display.IFrame at 0x7f4551772aa0>"
         ]
        },
        "execution_count": 121,
        "metadata": {},
        "output_type": "execute_result"
       }
      ],
      "source": [
       "if not esparto.options.esparto_css == \"pdf.css\": # once off tweak default css\n",
       "    base_css = tinycss2.parse_stylesheet(open(esparto.options.esparto_css).read())\n",
       "    base_css = [r for r in base_css if not hasattr(r, \"at_keyword\")] # strip media/print styles so we can replace\n",
       "    esparto.options.esparto_css = \"pdf.css\"\n",
       "\n",
       "with open(esparto.options.esparto_css, \"w\") as pdf_css:\n",
       "    for rule in (base_css + extra_css):\n",
       "        pdf_css.write(rule.serialize())\n",
       "# report.save_html(\"report.html\")\n",
       "# (kp.reports / kp.agency / f\"{kp.agency}-{month}-siemhealth.html\").write_text(open(\"report.html\").read())\n",
       "# report.save_pdf(\"report.pdf\")\n",
       "# (kp.reports / kp.agency / f\"{kp.agency}-{month}-siemhealth.pdf\").write_bytes(open(\"report.pdf\", \"rb\").read())\n",
       "html = report.save_pdf(\"report.pdf\", return_html=True)\n",
       "open(\"report.pdf.html\", \"w\").write(html)\n",
       "from IPython.display import IFrame\n",
       "IFrame(\"report.pdf\", width=1200, height=800)"
      ]
     },
     {
      "cell_type": "code",
      "execution_count": null,
      "id": "b079921d-c62a-42bb-b87a-b5bf1b949a02",
      "metadata": {},
      "outputs": [],
      "source": []
     }
    ],
    "metadata": {
     "kernel_info": {
      "name": "python310-sdkv2"
     },
     "kernelspec": {
      "display_name": "Python 3.10 - SDK V2",
      "language": "python",
      "name": "python310-sdkv2"
     },
     "language_info": {
      "codemirror_mode": {
       "name": "ipython",
       "version": 3
      },
      "file_extension": ".py",
      "mimetype": "text/x-python",
      "name": "python",
      "nbconvert_exporter": "python",
      "pygments_lexer": "ipython3",
      "version": "3.10.4"
     },
     "microsoft": {
      "host": {
       "AzureML": {
        "notebookHasBeenCompleted": true
       }
      }
     },
     "nteract": {
      "version": "nteract-front-end@1.0.0"
     }
    },
    "nbformat": 4,
    "nbformat_minor": 5
   }
   