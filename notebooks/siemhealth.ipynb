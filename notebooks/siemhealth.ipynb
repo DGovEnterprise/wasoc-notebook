{
 "cells": [
  {
   "cell_type": "raw",
   "id": "8f855aba-3d02-493e-951d-01b5e9794da5",
   "metadata": {
    "jupyter": {
     "outputs_hidden": false,
     "source_hidden": false
    },
    "nteract": {
     "transient": {
      "deleting": false
     }
    }
   },
   "source": [
    "%pip install --quiet git+https://github.com/wagov/wasoc-notebook.git"
   ]
  },
  {
   "cell_type": "code",
   "execution_count": null,
   "id": "60ea89ca-0543-4c60-a38f-2e2b4c41dbf7",
   "metadata": {
    "gather": {
     "logged": 1663729246896
    },
    "tags": []
   },
   "outputs": [],
   "source": [
    "import os, json\n",
    "import esparto\n",
    "import seaborn as sns\n",
    "import pandas as pd\n",
    "from datetime import date\n",
    "from textwrap import shorten, dedent\n",
    "from azure_notebook_reporting import KQL, BlobPath\n",
    "\n",
    "os.environ.update(json.load(open(f\"{os.environ['HOME']}/cloudfiles/code/nbenv.json\")))\n",
    "\n",
    "sns.set_theme(style=\"white\", context=\"paper\", font_scale=0.7, rc={\n",
    "    'figure.figsize': (4,3),\n",
    "    'figure.constrained_layout.use': True,\n",
    "    'legend.loc': 'upper right'\n",
    "})\n",
    "\n",
    "kp = KQL(BlobPath(os.environ[\"AZURE_STORAGE_CONTAINER\"], os.environ[\"AZURE_SUBSCRIPTION\"])).set_agency(\"...\")"
   ]
  },
  {
   "cell_type": "code",
   "execution_count": null,
   "id": "74bb6ee6",
   "metadata": {
    "gather": {
     "logged": 1663729306673
    }
   },
   "outputs": [],
   "source": [
    "queries = {\n",
    "    \"Incident Details\": kp.kql2df(\"siemhealth/incidentdetail.kql\"),\n",
    "    \"Alert Details\": kp.kql2df(\"siemhealth/alertdetail.kql\"),\n",
    "    \"Local Admins\": kp.kql2df(\"siemhealth/localadminlogons.kql\"),\n",
    "    \"Email Delivery\": kp.kql2df(\"siemhealth/emaildelivery.kql\"),\n",
    "    \"External Files\": kp.kql2df(\"siemhealth/externaldownloads.kql\"),\n",
    "    \"Guest Tenants\": kp.kql2df(\"siemhealth/guestdownloads.kql\"),\n",
    "    \"On Premise Logons\": kp.kql2df(\"siemhealth/identitylogonevents.kql\"),\n",
    "    \"Azure AD Logons\": kp.kql2df(\"siemhealth/signins.kql\"),\n",
    "    \"Operating Systems\": kp.kql2df(\"siemhealth/operatingsystems.kql\"),\n",
    "    \"Ingestion Detail\": kp.kql2df(\"siemhealth/usage.kql\")\n",
    "}"
   ]
  },
  {
   "cell_type": "code",
   "execution_count": null,
   "id": "55596026-65f6-4ad6-88d4-1bcf00c24258",
   "metadata": {},
   "outputs": [],
   "source": [
    "querystats = {}\n",
    "for key in queries:\n",
    "    if queries[key].count().max() == 1:\n",
    "        querystats[key] = [0, f\"{queries[key].columns[0]} - {queries[key].iloc[0,0]}\"]\n",
    "    else:\n",
    "        querystats[key] = [queries[key].count().max(), len(queries[key].columns)]\n",
    "querystats = pd.DataFrame(querystats).T.rename(columns={0: \"Rows\", 1: \"Columns\"}).sort_values(\"Rows\")"
   ]
  },
  {
   "cell_type": "code",
   "execution_count": null,
   "id": "6aa59877-6c3d-463c-a999-8922701a3e3f",
   "metadata": {},
   "outputs": [],
   "source": [
    "report_date, month = date.today().strftime(\"%B %Y\"), date.today().strftime(\"%b%Y\")\n",
    "\n",
    "exec_summary = kp.nbpath / \"exec_summaries\" / f\"{kp.agency}-{month}.md\"\n",
    "if not exec_summary.exists():\n",
    "    exec_summary = kp.nbpath / \"exec_summaries\" / \"default.md\"\n",
    "\n",
    "def minitable(df):\n",
    "    html = df.to_html(classes=[\"table\", \"table-hover\", \"small\"])\n",
    "    html = f\"<div class='table-responsive es-table'><small><small>{html}</small></small></div>\"\n",
    "    return(html)\n",
    "\n",
    "report = esparto.Page(title=f\"SIEM Health Report\", table_of_contents=True)\n",
    "report += f\"#### {kp.agency_name} - {report_date}\\n{exec_summary.open().read()}\"\n",
    "report += dedent(f\"\"\"\n",
    "    ### Data volume queries\n",
    "    This report aggregates information from several backend tables across the past 30 days. Some data is aggregated, while other elements include a top N type analysis of key useful entries.\n",
    "    Below is a summary of data visible to the WA SOC in this environment from least to most. If there are any rows with **No data in timespan** under \"Columns\" \n",
    "    please review the [WA SOC Microsoft Sentinel Connector Guidance](https://github.com/wagov/soc-onboarding/blob/main/Sentinel-Connector-Guidance.md) for details on how to ingest additional data.\n",
    "\"\"\")\n",
    "report += minitable(querystats)\n",
    "report[\"Mitre Tactics and Detection Rules\"] = dedent(\"\"\"\n",
    "    The below charts show what tactics and rules are triggering your Sentinel incidents. An incident can include multiple alerts. \n",
    "    It's an aggregation of all the relevant evidence for a specific investigation. An incident is created based on [analytics rules](https://learn.microsoft.com/en-us/azure/sentinel/detect-threats-built-in) configured on the Analytics page. \n",
    "    The properties related to the alerts, such as severity and status, are set at the incident level. After you let Microsoft Sentinel know what kinds of threats you're looking for and how to find them, you can monitor detected threats by investigating incidents.\n",
    "    For more information see [Using Sentinel to investigate Security Incidents](https://learn.microsoft.com/en-us/azure/sentinel/investigate-cases).\n",
    "    \"\"\")\n",
    "\n",
    "section = \"Mitre Tactics and Detection Rules\"\n",
    "df = queries[\"Incident Details\"].groupby([\"Status\", \"Classification\", \"Severity\", \"Tactics\", \"Title\"])\n",
    "df = df[\"IncidentNumber\"].nunique().unstack(level=[0,1]).dropna(axis=1, how=\"all\").fillna(0)\n",
    "df[\"Total\"] = df.sum(numeric_only=True, axis=1)\n",
    "df = df.sort_values(\"Total\", ascending=False).replace({0: \"\"}).head(5)\n",
    "report[section] += minitable(df)\n",
    "\n",
    "df, interval = queries[\"Incident Details\"].copy(deep=True), \"1H\"\n",
    "df = df[df[\"TimeGenerated\"] >= (df[\"TimeGenerated\"].max() - pd.to_timedelta(\"5D\"))].reset_index()\n",
    "tactics = df.groupby(\"Tactics\").resample(interval, on=\"TimeGenerated\")[\"IncidentNumber\"].nunique().reset_index()\n",
    "report[section] += KQL.df2fig(tactics, \"Detections by Tactic\", \"TimeGenerated\", \"IncidentNumber\", \"Tactics\")\n",
    "rules = df.groupby(\"Title\").resample(interval, on=\"TimeGenerated\")[\"IncidentNumber\"].nunique().reset_index().rename(columns={\"Title\": \"Rule\"})\n",
    "report[section] += KQL.df2fig(rules, \"Detections by Rule\", \"TimeGenerated\", \"IncidentNumber\", \"Rule\")"
   ]
  },
  {
   "cell_type": "code",
   "execution_count": null,
   "id": "7cfe34a0-5fb5-48b8-a5da-f95e366da40d",
   "metadata": {},
   "outputs": [],
   "source": [
    "report[\"Cost Optimisation\"] = \"\"\"\n",
    "Microsoft Sentinel has builtin [queries to understand your data ingestion](https://docs.microsoft.com/en-us/azure/sentinel/billing-monitor-costs#run-queries-to-understand-your-data-ingestion) at a per table level. To get further granularity you can look at specific devices sending a lot of data using [additional usage queries](https://docs.microsoft.com/en-us/azure/azure-monitor/logs/log-analytics-workspace-insights-overview#additional-usage-queries) or directly run manual queries from [Investigate your Log Analytics usage](https://docs.microsoft.com/en-us/azure/azure-monitor/logs/manage-cost-storage#investigate-your-log-analytics-usage).\n",
    "\n",
    "Once you have identified the high cost items, you can reduce the events generated at the source, using a [Logstash filter](https://docs.microsoft.com/en-us/azure/sentinel/connect-logstash) for a custom source or with configuration in Sentinel itself:\n",
    "\n",
    "- [Ingestion time transformations](https://docs.microsoft.com/en-us/azure/azure-monitor/logs/ingestion-time-transformations) - should be used to eliminate low value logs before they are persisted within Log Analytics & Sentinel\n",
    "- [Basic Logs](https://docs.microsoft.com/en-us/azure/azure-monitor/logs/basic-logs-configure?tabs=cli-1%2Cportal-1) - should be used for high volume tables that aren't queried regularly (approx 1/4 cost per GB ingested)\n",
    "\n",
    "The below chart shows your ingestion usage by table over the past week. \n",
    "Typically your ingestion should be under 30MB per licensed user in your tenant (5MB of that is included for free under the \n",
    "[Microsoft Sentinel benefit for Microsoft 365 E5, A5, F5, and G5 customers](https://azure.microsoft.com/en-us/offers/sentinel-microsoft-365-offer/)).\n",
    "\"\"\"\n",
    "df = queries[\"Ingestion Detail\"].copy(deep=True)\n",
    "df = df[df[\"TimeGenerated\"] >= (df[\"TimeGenerated\"].max() - pd.to_timedelta(\"5D\"))].reset_index()\n",
    "df[\"GB\"] = df.IngestionVolume.map(lambda v: v / 1000)\n",
    "report[\"Cost Optimisation\"] += KQL.df2fig(df[df[\"Billable\"] == \"True\"], \"Billable Ingestion (GB) by Table\", \"TimeGenerated\", \"GB\", \"Table\")"
   ]
  },
  {
   "cell_type": "code",
   "execution_count": null,
   "id": "a5f71341-0d8d-4b3d-bd2a-e812dd9b6d03",
   "metadata": {},
   "outputs": [],
   "source": [
    "report.save_html(\"report.html\")\n",
    "(kp.reports / kp.agency / f\"{kp.agency}-{month}-siemhealth.html\").write_text(open(\"report.html\").read())\n",
    "report.save_pdf(\"report.pdf\")\n",
    "(kp.reports / kp.agency / f\"{kp.agency}-{month}-siemhealth.pdf\").write_bytes(open(\"report.pdf\", \"rb\").read())\n",
    "report"
   ]
  },
  {
   "cell_type": "code",
   "execution_count": null,
   "id": "1ac4a0be-aa00-4559-9e8b-657b5c573148",
   "metadata": {},
   "outputs": [],
   "source": []
  }
 ],
 "metadata": {
  "kernel_info": {
   "name": "python310-sdkv2"
  },
  "kernelspec": {
   "display_name": "Python 3.10 - SDK V2",
   "language": "python",
   "name": "python310-sdkv2"
  },
  "language_info": {
   "codemirror_mode": {
    "name": "ipython",
    "version": 3
   },
   "file_extension": ".py",
   "mimetype": "text/x-python",
   "name": "python",
   "nbconvert_exporter": "python",
   "pygments_lexer": "ipython3",
   "version": "3.10.4"
  },
  "microsoft": {
   "host": {
    "AzureML": {
     "notebookHasBeenCompleted": true
    }
   }
  },
  "nteract": {
   "version": "nteract-front-end@1.0.0"
  }
 },
 "nbformat": 4,
 "nbformat_minor": 5
}
